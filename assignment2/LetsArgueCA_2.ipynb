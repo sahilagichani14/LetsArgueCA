{
 "cells": [
  {
   "cell_type": "code",
   "execution_count": 1,
   "id": "70ed8ab9",
   "metadata": {},
   "outputs": [
    {
     "name": "stdout",
     "output_type": "stream",
     "text": [
      "806303\n"
     ]
    }
   ],
   "source": [
    "import pandas as pd\n",
    "df = pd.read_csv('./data/train-bio.csv', sep='\\t', header=None)\n",
    "df.columns = ['tokens','BIO_Label']\n",
    "\n",
    "# df.isnull().sum() # 85 empty strings?\n",
    "# df.dropna(inplace=True) #to remove these 85 values\n",
    "\n",
    "essay = \" \"\n",
    "for word in df['tokens']:\n",
    "    essay = str(essay) + \" \" + str(word) + \" \"\n",
    "    \n",
    "print(len(essay))"
   ]
  },
  {
   "cell_type": "code",
   "execution_count": 10,
   "id": "2ca9805d",
   "metadata": {},
   "outputs": [
    {
     "name": "stdout",
     "output_type": "stream",
     "text": [
      "0.6802661310569922\n"
     ]
    },
    {
     "name": "stderr",
     "output_type": "stream",
     "text": [
      "C:\\Users\\SAHILAGICHANI\\AppData\\Local\\Programs\\Python\\Python38\\lib\\site-packages\\sklearn\\metrics\\_classification.py:1318: UndefinedMetricWarning: Precision and F-score are ill-defined and being set to 0.0 in labels with no predicted samples. Use `zero_division` parameter to control this behavior.\n",
      "  _warn_prf(average, modifier, msg_start, len(result))\n",
      "C:\\Users\\SAHILAGICHANI\\AppData\\Local\\Programs\\Python\\Python38\\lib\\site-packages\\sklearn\\metrics\\_classification.py:1318: UndefinedMetricWarning: Precision and F-score are ill-defined and being set to 0.0 in labels with no predicted samples. Use `zero_division` parameter to control this behavior.\n",
      "  _warn_prf(average, modifier, msg_start, len(result))\n",
      "C:\\Users\\SAHILAGICHANI\\AppData\\Local\\Programs\\Python\\Python38\\lib\\site-packages\\sklearn\\metrics\\_classification.py:1318: UndefinedMetricWarning: Precision and F-score are ill-defined and being set to 0.0 in labels with no predicted samples. Use `zero_division` parameter to control this behavior.\n",
      "  _warn_prf(average, modifier, msg_start, len(result))\n"
     ]
    },
    {
     "name": "stdout",
     "output_type": "stream",
     "text": [
      "              precision    recall  f1-score   support\n",
      "\n",
      "           B       0.00      0.00      0.00       962\n",
      "           I       0.67      1.00      0.81     15829\n",
      "           O       1.00      0.06      0.11      7107\n",
      "\n",
      "    accuracy                           0.68     23898\n",
      "   macro avg       0.56      0.35      0.31     23898\n",
      "weighted avg       0.74      0.68      0.57     23898\n",
      "\n",
      "   B      I    O\n",
      "B  0    962    0\n",
      "I  0  15829    0\n",
      "O  0   6679  428\n"
     ]
    }
   ],
   "source": [
    "import pandas as pd\n",
    "import numpy as np\n",
    "import re\n",
    "import pickle \n",
    "import nltk\n",
    "from nltk.corpus import stopwords\n",
    "from sklearn.datasets import load_files\n",
    "from sklearn import metrics\n",
    "from sklearn.metrics import confusion_matrix\n",
    "#nltk.download('stopwords')\n",
    "\n",
    "X,y = df['tokens'],df['BIO_Label']\n",
    "\n",
    "corpus = []\n",
    "for i in range(len(X)):\n",
    "    review = re.sub(r'\\W', ' ', str(X[i]))\n",
    "    review = review.lower()\n",
    "    review = re.sub(r'\\s+[a-z]\\s+', ' ',review) #substitute all single characters with space on l&r\n",
    "    review = re.sub(r'\\s+', ' ', review)  #substitute all spaces to single space\n",
    "    corpus.append(review) \n",
    "\n",
    "from sklearn.feature_extraction.text import TfidfVectorizer\n",
    "vectorizer = TfidfVectorizer(max_features = 2000, min_df = 3, max_df = 0.6, stop_words = stopwords.words('english'))\n",
    "X = vectorizer.fit_transform(corpus).toarray()\n",
    "\n",
    "# Splitting the dataset into the Training set and Test set\n",
    "from sklearn.model_selection import train_test_split\n",
    "text_train, text_test, sent_train, sent_test = train_test_split(X, y, test_size = 0.20, random_state = 0)\n",
    "\n",
    "from sklearn.tree import DecisionTreeClassifier\n",
    "dtree_model = DecisionTreeClassifier(max_depth = 2).fit(text_train,sent_train)\n",
    "dtree_predictions = dtree_model.predict(text_test)\n",
    "accuracy = dtree_model.score(text_test, sent_test)\n",
    "print(accuracy)\n",
    "print(metrics.classification_report(sent_test, dtree_predictions))\n",
    "cm = confusion_matrix(sent_test, dtree_predictions)\n",
    "\n",
    "df2 = pd.DataFrame(cm,index=['B','I','O'], columns=['B','I','O'])\n",
    "print(df2)"
   ]
  }
 ],
 "metadata": {
  "kernelspec": {
   "display_name": "Python 3 (ipykernel)",
   "language": "python",
   "name": "python3"
  },
  "language_info": {
   "codemirror_mode": {
    "name": "ipython",
    "version": 3
   },
   "file_extension": ".py",
   "mimetype": "text/x-python",
   "name": "python",
   "nbconvert_exporter": "python",
   "pygments_lexer": "ipython3",
   "version": "3.8.10"
  }
 },
 "nbformat": 4,
 "nbformat_minor": 5
}
